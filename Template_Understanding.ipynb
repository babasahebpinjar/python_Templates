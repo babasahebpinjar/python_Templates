{
 "cells": [
  {
   "cell_type": "code",
   "execution_count": 2,
   "metadata": {},
   "outputs": [
    {
     "name": "stdout",
     "output_type": "stream",
     "text": [
      "Checking whether there is an H2O instance running at http://localhost:54321. connected.\n"
     ]
    },
    {
     "data": {
      "text/html": [
       "<div style=\"overflow:auto\"><table style=\"width:50%\"><tr><td>H2O cluster uptime:</td>\n",
       "<td>3 hours 28 mins</td></tr>\n",
       "<tr><td>H2O cluster version:</td>\n",
       "<td>3.16.0.4</td></tr>\n",
       "<tr><td>H2O cluster version age:</td>\n",
       "<td>15 days </td></tr>\n",
       "<tr><td>H2O cluster name:</td>\n",
       "<td>H2O_from_python_bpinjar_zwsmcx</td></tr>\n",
       "<tr><td>H2O cluster total nodes:</td>\n",
       "<td>1</td></tr>\n",
       "<tr><td>H2O cluster free memory:</td>\n",
       "<td>6.874 Gb</td></tr>\n",
       "<tr><td>H2O cluster total cores:</td>\n",
       "<td>4</td></tr>\n",
       "<tr><td>H2O cluster allowed cores:</td>\n",
       "<td>4</td></tr>\n",
       "<tr><td>H2O cluster status:</td>\n",
       "<td>locked, healthy</td></tr>\n",
       "<tr><td>H2O connection url:</td>\n",
       "<td>http://localhost:54321</td></tr>\n",
       "<tr><td>H2O connection proxy:</td>\n",
       "<td>None</td></tr>\n",
       "<tr><td>H2O internal security:</td>\n",
       "<td>False</td></tr>\n",
       "<tr><td>H2O API Extensions:</td>\n",
       "<td>Algos, AutoML, Core V3, Core V4</td></tr>\n",
       "<tr><td>Python version:</td>\n",
       "<td>2.7.13 final</td></tr></table></div>"
      ],
      "text/plain": [
       "--------------------------  -------------------------------\n",
       "H2O cluster uptime:         3 hours 28 mins\n",
       "H2O cluster version:        3.16.0.4\n",
       "H2O cluster version age:    15 days\n",
       "H2O cluster name:           H2O_from_python_bpinjar_zwsmcx\n",
       "H2O cluster total nodes:    1\n",
       "H2O cluster free memory:    6.874 Gb\n",
       "H2O cluster total cores:    4\n",
       "H2O cluster allowed cores:  4\n",
       "H2O cluster status:         locked, healthy\n",
       "H2O connection url:         http://localhost:54321\n",
       "H2O connection proxy:\n",
       "H2O internal security:      False\n",
       "H2O API Extensions:         Algos, AutoML, Core V3, Core V4\n",
       "Python version:             2.7.13 final\n",
       "--------------------------  -------------------------------"
      ]
     },
     "metadata": {},
     "output_type": "display_data"
    }
   ],
   "source": [
    "import h2o\n",
    "h2o.init(nthreads = -1, max_mem_size = 8)"
   ]
  },
  {
   "cell_type": "code",
   "execution_count": 3,
   "metadata": {
    "collapsed": true
   },
   "outputs": [],
   "source": [
    "retail_csv = \"sample_set.csv\"  # modify this for your machine\n"
   ]
  },
  {
   "cell_type": "code",
   "execution_count": 26,
   "metadata": {},
   "outputs": [
    {
     "name": "stdout",
     "output_type": "stream",
     "text": [
      "Parse progress: |█████████████████████████████████████████████████████████| 100%\n"
     ]
    }
   ],
   "source": [
    "\n",
    "data = h2o.import_file(retail_csv,na_strings=[\"?\"])  # 163,987 rows x 15 columns"
   ]
  },
  {
   "cell_type": "code",
   "execution_count": 27,
   "metadata": {},
   "outputs": [
    {
     "data": {
      "text/plain": [
       "(1000000, 35)"
      ]
     },
     "execution_count": 27,
     "metadata": {},
     "output_type": "execute_result"
    }
   ],
   "source": [
    "data.shape"
   ]
  },
  {
   "cell_type": "code",
   "execution_count": 28,
   "metadata": {},
   "outputs": [
    {
     "data": {
      "text/plain": [
       "1776231.0"
      ]
     },
     "execution_count": 28,
     "metadata": {},
     "output_type": "execute_result"
    }
   ],
   "source": [
    "data.isna().sum()"
   ]
  },
  {
   "cell_type": "markdown",
   "metadata": {},
   "source": [
    "data.nacnt()"
   ]
  },
  {
   "cell_type": "code",
   "execution_count": 29,
   "metadata": {},
   "outputs": [],
   "source": [
    "#na_omit_columns = data.filter_na_cols(frac=0.35)\n",
    "#len(na_omit_columns)"
   ]
  },
  {
   "cell_type": "code",
   "execution_count": 30,
   "metadata": {},
   "outputs": [
    {
     "data": {
      "text/plain": [
       "1776231.0"
      ]
     },
     "execution_count": 30,
     "metadata": {},
     "output_type": "execute_result"
    }
   ],
   "source": [
    "data.isna().sum()"
   ]
  },
  {
   "cell_type": "code",
   "execution_count": 31,
   "metadata": {
    "collapsed": true
   },
   "outputs": [],
   "source": [
    "pandas_df = data.as_data_frame()"
   ]
  },
  {
   "cell_type": "markdown",
   "metadata": {},
   "source": [
    "# Now we have pandas dataframe from H20 dataframe, we will separate categorical and numerical and work on Imputation"
   ]
  },
  {
   "cell_type": "markdown",
   "metadata": {},
   "source": [
    "# We have to make sure that we drop rows before splitting the data so that since we are seperating numeric and categorical variables"
   ]
  },
  {
   "cell_type": "markdown",
   "metadata": {},
   "source": [
    "# Extract only numeric variables from dataframe, but verify once to confirm using pandas_df.info  \n"
   ]
  },
  {
   "cell_type": "markdown",
   "metadata": {},
   "source": [
    "Convert to categorical variables which are numeric"
   ]
  },
  {
   "cell_type": "code",
   "execution_count": null,
   "metadata": {},
   "outputs": [],
   "source": []
  },
  {
   "cell_type": "code",
   "execution_count": null,
   "metadata": {
    "collapsed": true
   },
   "outputs": [],
   "source": [
    "#col_names = ['bedrooms','bathrooms','floors','waterfront','view','condition','grade','yr_built','zipcode']\n",
    "#for col in col_names:\n",
    "    #houseData[col] = houseData[col].astype('category',copy=False)"
   ]
  },
  {
   "cell_type": "code",
   "execution_count": 108,
   "metadata": {
    "collapsed": true
   },
   "outputs": [],
   "source": [
    "num_cols = pandas_df._get_numeric_data().columns"
   ]
  },
  {
   "cell_type": "code",
   "execution_count": 109,
   "metadata": {},
   "outputs": [
    {
     "data": {
      "text/plain": [
       "Index([u'Row_ID', u'Household_ID', u'Var1', u'Var2', u'Var3', u'Var4', u'Var5',\n",
       "       u'Var6', u'Var7', u'Var8', u'NVVar1', u'NVVar2', u'NVVar3', u'NVVar4',\n",
       "       u'Claim_Amount'],\n",
       "      dtype='object')"
      ]
     },
     "execution_count": 109,
     "metadata": {},
     "output_type": "execute_result"
    }
   ],
   "source": [
    "num_cols"
   ]
  },
  {
   "cell_type": "code",
   "execution_count": 110,
   "metadata": {},
   "outputs": [
    {
     "data": {
      "text/plain": [
       "15"
      ]
     },
     "execution_count": 110,
     "metadata": {},
     "output_type": "execute_result"
    }
   ],
   "source": [
    "len(num_cols)"
   ]
  },
  {
   "cell_type": "code",
   "execution_count": 111,
   "metadata": {},
   "outputs": [],
   "source": [
    "# not to consider Target value\n",
    "num_cols  = num_cols.drop('Claim_Amount') "
   ]
  },
  {
   "cell_type": "code",
   "execution_count": 112,
   "metadata": {},
   "outputs": [
    {
     "data": {
      "text/plain": [
       "Index([u'Row_ID', u'Household_ID', u'Var1', u'Var2', u'Var3', u'Var4', u'Var5',\n",
       "       u'Var6', u'Var7', u'Var8', u'NVVar1', u'NVVar2', u'NVVar3', u'NVVar4'],\n",
       "      dtype='object')"
      ]
     },
     "execution_count": 112,
     "metadata": {},
     "output_type": "execute_result"
    }
   ],
   "source": [
    "num_cols"
   ]
  },
  {
   "cell_type": "markdown",
   "metadata": {},
   "source": [
    "#  To convert numeric variables to categorical"
   ]
  },
  {
   "cell_type": "code",
   "execution_count": 113,
   "metadata": {
    "collapsed": true
   },
   "outputs": [],
   "source": [
    "col_names = ['Calendar_Year','Model_Year','OrdCat','Vehicle']\n",
    "for col in col_names:\n",
    "    pandas_df[col] = pandas_df[col].astype('category',copy=False)"
   ]
  },
  {
   "cell_type": "code",
   "execution_count": 123,
   "metadata": {
    "collapsed": true
   },
   "outputs": [],
   "source": [
    "num_cols = pandas_df._get_numeric_data().columns\n",
    "# not to consider Target value\n",
    "num_cols  = num_cols.drop('Claim_Amount') "
   ]
  },
  {
   "cell_type": "code",
   "execution_count": 124,
   "metadata": {},
   "outputs": [
    {
     "data": {
      "text/plain": [
       "Index([u'Row_ID', u'Household_ID', u'Var1', u'Var2', u'Var3', u'Var4', u'Var5',\n",
       "       u'Var6', u'Var7', u'Var8', u'NVVar1', u'NVVar2', u'NVVar3', u'NVVar4'],\n",
       "      dtype='object')"
      ]
     },
     "execution_count": 124,
     "metadata": {},
     "output_type": "execute_result"
    }
   ],
   "source": [
    "num_cols"
   ]
  },
  {
   "cell_type": "code",
   "execution_count": 125,
   "metadata": {},
   "outputs": [],
   "source": [
    "#df_num.Model_Year.unique()\n",
    "#df_num.OrdCat.unique()\n",
    "#df_num.Calendar_Year.unique()\n",
    "#df_num.Vehicle.value_counts()\n",
    "#df_num.Calendar_Year.value_counts()"
   ]
  },
  {
   "cell_type": "code",
   "execution_count": 128,
   "metadata": {
    "collapsed": true
   },
   "outputs": [],
   "source": [
    "set_cols = pandas_df.columns\n",
    "cat_cols = list(set(set_cols) - set(num_cols))"
   ]
  },
  {
   "cell_type": "code",
   "execution_count": 129,
   "metadata": {},
   "outputs": [
    {
     "data": {
      "text/plain": [
       "21"
      ]
     },
     "execution_count": 129,
     "metadata": {},
     "output_type": "execute_result"
    }
   ],
   "source": [
    "len(cat_cols)"
   ]
  },
  {
   "cell_type": "code",
   "execution_count": 132,
   "metadata": {},
   "outputs": [
    {
     "data": {
      "text/plain": [
       "pandas.core.indexes.base.Index"
      ]
     },
     "execution_count": 132,
     "metadata": {},
     "output_type": "execute_result"
    }
   ],
   "source": [
    "type(cat_cols)\n",
    "type(num_cols)"
   ]
  },
  {
   "cell_type": "code",
   "execution_count": 133,
   "metadata": {
    "collapsed": true
   },
   "outputs": [],
   "source": [
    "cat_cols.remove('Claim_Amount')"
   ]
  },
  {
   "cell_type": "code",
   "execution_count": 134,
   "metadata": {},
   "outputs": [
    {
     "data": {
      "text/plain": [
       "['Cat9',\n",
       " 'Blind_Submodel',\n",
       " 'Blind_Model',\n",
       " 'Cat7',\n",
       " 'Calendar_Year',\n",
       " 'Cat12',\n",
       " 'Cat10',\n",
       " 'Cat1',\n",
       " 'Cat2',\n",
       " 'Cat3',\n",
       " 'Cat11',\n",
       " 'Cat5',\n",
       " 'Cat6',\n",
       " 'Vehicle',\n",
       " 'Cat8',\n",
       " 'Cat4',\n",
       " 'OrdCat',\n",
       " 'NVCat',\n",
       " 'Blind_Make',\n",
       " 'Model_Year']"
      ]
     },
     "execution_count": 134,
     "metadata": {},
     "output_type": "execute_result"
    }
   ],
   "source": [
    "cat_cols"
   ]
  },
  {
   "cell_type": "code",
   "execution_count": 119,
   "metadata": {},
   "outputs": [
    {
     "data": {
      "text/plain": [
       "35"
      ]
     },
     "execution_count": 119,
     "metadata": {},
     "output_type": "execute_result"
    }
   ],
   "source": [
    "len(pandas_df.columns)"
   ]
  },
  {
   "cell_type": "code",
   "execution_count": 137,
   "metadata": {},
   "outputs": [
    {
     "name": "stdout",
     "output_type": "stream",
     "text": [
      "20\n",
      "14\n",
      "--\n",
      "35\n"
     ]
    }
   ],
   "source": [
    "print len(cat_cols)\n",
    "print len(num_cols)\n",
    "print \"--\"\n",
    "print len(pandas_df.columns)"
   ]
  },
  {
   "cell_type": "code",
   "execution_count": 138,
   "metadata": {
    "collapsed": true
   },
   "outputs": [],
   "source": [
    "# we will work on numeric data now"
   ]
  },
  {
   "cell_type": "code",
   "execution_count": 139,
   "metadata": {
    "collapsed": true
   },
   "outputs": [],
   "source": [
    "df_num = pandas_df[num_cols]"
   ]
  },
  {
   "cell_type": "code",
   "execution_count": 141,
   "metadata": {},
   "outputs": [
    {
     "data": {
      "text/plain": [
       "Row_ID            int64\n",
       "Household_ID      int64\n",
       "Var1            float64\n",
       "Var2            float64\n",
       "Var3            float64\n",
       "Var4            float64\n",
       "Var5            float64\n",
       "Var6            float64\n",
       "Var7            float64\n",
       "Var8            float64\n",
       "NVVar1          float64\n",
       "NVVar2          float64\n",
       "NVVar3          float64\n",
       "NVVar4          float64\n",
       "dtype: object"
      ]
     },
     "execution_count": 141,
     "metadata": {},
     "output_type": "execute_result"
    }
   ],
   "source": [
    "df_num.dtypes"
   ]
  },
  {
   "cell_type": "code",
   "execution_count": 142,
   "metadata": {},
   "outputs": [
    {
     "data": {
      "text/html": [
       "<div>\n",
       "<style>\n",
       "    .dataframe thead tr:only-child th {\n",
       "        text-align: right;\n",
       "    }\n",
       "\n",
       "    .dataframe thead th {\n",
       "        text-align: left;\n",
       "    }\n",
       "\n",
       "    .dataframe tbody tr th {\n",
       "        vertical-align: top;\n",
       "    }\n",
       "</style>\n",
       "<table border=\"1\" class=\"dataframe\">\n",
       "  <thead>\n",
       "    <tr style=\"text-align: right;\">\n",
       "      <th></th>\n",
       "      <th>Total</th>\n",
       "      <th>Percent</th>\n",
       "    </tr>\n",
       "  </thead>\n",
       "  <tbody>\n",
       "    <tr>\n",
       "      <th>NVVar4</th>\n",
       "      <td>0</td>\n",
       "      <td>0.0</td>\n",
       "    </tr>\n",
       "    <tr>\n",
       "      <th>NVVar3</th>\n",
       "      <td>0</td>\n",
       "      <td>0.0</td>\n",
       "    </tr>\n",
       "    <tr>\n",
       "      <th>NVVar2</th>\n",
       "      <td>0</td>\n",
       "      <td>0.0</td>\n",
       "    </tr>\n",
       "    <tr>\n",
       "      <th>NVVar1</th>\n",
       "      <td>0</td>\n",
       "      <td>0.0</td>\n",
       "    </tr>\n",
       "    <tr>\n",
       "      <th>Var8</th>\n",
       "      <td>0</td>\n",
       "      <td>0.0</td>\n",
       "    </tr>\n",
       "    <tr>\n",
       "      <th>Var7</th>\n",
       "      <td>0</td>\n",
       "      <td>0.0</td>\n",
       "    </tr>\n",
       "    <tr>\n",
       "      <th>Var6</th>\n",
       "      <td>0</td>\n",
       "      <td>0.0</td>\n",
       "    </tr>\n",
       "    <tr>\n",
       "      <th>Var5</th>\n",
       "      <td>0</td>\n",
       "      <td>0.0</td>\n",
       "    </tr>\n",
       "    <tr>\n",
       "      <th>Var4</th>\n",
       "      <td>0</td>\n",
       "      <td>0.0</td>\n",
       "    </tr>\n",
       "    <tr>\n",
       "      <th>Var3</th>\n",
       "      <td>0</td>\n",
       "      <td>0.0</td>\n",
       "    </tr>\n",
       "    <tr>\n",
       "      <th>Var2</th>\n",
       "      <td>0</td>\n",
       "      <td>0.0</td>\n",
       "    </tr>\n",
       "    <tr>\n",
       "      <th>Var1</th>\n",
       "      <td>0</td>\n",
       "      <td>0.0</td>\n",
       "    </tr>\n",
       "    <tr>\n",
       "      <th>Household_ID</th>\n",
       "      <td>0</td>\n",
       "      <td>0.0</td>\n",
       "    </tr>\n",
       "    <tr>\n",
       "      <th>Row_ID</th>\n",
       "      <td>0</td>\n",
       "      <td>0.0</td>\n",
       "    </tr>\n",
       "  </tbody>\n",
       "</table>\n",
       "</div>"
      ],
      "text/plain": [
       "              Total  Percent\n",
       "NVVar4            0      0.0\n",
       "NVVar3            0      0.0\n",
       "NVVar2            0      0.0\n",
       "NVVar1            0      0.0\n",
       "Var8              0      0.0\n",
       "Var7              0      0.0\n",
       "Var6              0      0.0\n",
       "Var5              0      0.0\n",
       "Var4              0      0.0\n",
       "Var3              0      0.0\n",
       "Var2              0      0.0\n",
       "Var1              0      0.0\n",
       "Household_ID      0      0.0\n",
       "Row_ID            0      0.0"
      ]
     },
     "execution_count": 142,
     "metadata": {},
     "output_type": "execute_result"
    }
   ],
   "source": [
    "#missing data\n",
    "#Column wise\n",
    "import pandas as pd\n",
    "total = df_num.isnull().sum().sort_values(ascending=False)\n",
    "percent = (df_num.isnull().sum()/df_num.isnull().count()).sort_values(ascending=False)\n",
    "#percent\n",
    "missing_data = pd.concat([total, percent*100], axis=1, keys=['Total', 'Percent'])\n",
    "missing_data.head(20)\n"
   ]
  },
  {
   "cell_type": "code",
   "execution_count": 143,
   "metadata": {},
   "outputs": [
    {
     "data": {
      "text/plain": [
       "0L"
      ]
     },
     "execution_count": 143,
     "metadata": {},
     "output_type": "execute_result"
    }
   ],
   "source": [
    "df_num.isnull().sum().sum()"
   ]
  },
  {
   "cell_type": "code",
   "execution_count": 144,
   "metadata": {},
   "outputs": [
    {
     "data": {
      "text/plain": [
       "0         0\n",
       "1         0\n",
       "2         0\n",
       "3         0\n",
       "4         0\n",
       "5         0\n",
       "6         0\n",
       "7         0\n",
       "8         0\n",
       "9         0\n",
       "10        0\n",
       "11        0\n",
       "12        0\n",
       "13        0\n",
       "14        0\n",
       "15        0\n",
       "16        0\n",
       "17        0\n",
       "18        0\n",
       "19        0\n",
       "20        0\n",
       "21        0\n",
       "22        0\n",
       "23        0\n",
       "24        0\n",
       "25        0\n",
       "26        0\n",
       "27        0\n",
       "28        0\n",
       "29        0\n",
       "         ..\n",
       "999970    0\n",
       "999971    0\n",
       "999972    0\n",
       "999973    0\n",
       "999974    0\n",
       "999975    0\n",
       "999976    0\n",
       "999977    0\n",
       "999978    0\n",
       "999979    0\n",
       "999980    0\n",
       "999981    0\n",
       "999982    0\n",
       "999983    0\n",
       "999984    0\n",
       "999985    0\n",
       "999986    0\n",
       "999987    0\n",
       "999988    0\n",
       "999989    0\n",
       "999990    0\n",
       "999991    0\n",
       "999992    0\n",
       "999993    0\n",
       "999994    0\n",
       "999995    0\n",
       "999996    0\n",
       "999997    0\n",
       "999998    0\n",
       "999999    0\n",
       "Length: 1000000, dtype: int64"
      ]
     },
     "execution_count": 144,
     "metadata": {},
     "output_type": "execute_result"
    }
   ],
   "source": [
    "df_num.isnull().sum(axis=1)"
   ]
  },
  {
   "cell_type": "markdown",
   "metadata": {},
   "source": [
    "# NA imputation "
   ]
  },
  {
   "cell_type": "code",
   "execution_count": 145,
   "metadata": {},
   "outputs": [],
   "source": [
    "# drop rows with missing values\n",
    "#dataset.dropna(inplace=True)"
   ]
  },
  {
   "cell_type": "code",
   "execution_count": 146,
   "metadata": {},
   "outputs": [],
   "source": [
    "# fill missing values with mean column values\n",
    "#dataset.fillna(dataset.mean(), inplace=True)\n"
   ]
  },
  {
   "cell_type": "markdown",
   "metadata": {},
   "source": [
    "# To drop columns"
   ]
  },
  {
   "cell_type": "code",
   "execution_count": 147,
   "metadata": {
    "collapsed": true
   },
   "outputs": [],
   "source": [
    "#df_num.drop(['id'],inplace=True,axis=1)"
   ]
  },
  {
   "cell_type": "markdown",
   "metadata": {},
   "source": [
    "# To add a new column"
   ]
  },
  {
   "cell_type": "code",
   "execution_count": 148,
   "metadata": {
    "collapsed": true
   },
   "outputs": [],
   "source": [
    "#normalized_df['price'] = targetVar['price']"
   ]
  },
  {
   "cell_type": "markdown",
   "metadata": {},
   "source": [
    "# To write to a csv file"
   ]
  },
  {
   "cell_type": "code",
   "execution_count": 149,
   "metadata": {
    "collapsed": true
   },
   "outputs": [],
   "source": [
    "#normalized_df.to_csv(\"numeric.csv\")"
   ]
  },
  {
   "cell_type": "code",
   "execution_count": 150,
   "metadata": {
    "collapsed": true
   },
   "outputs": [],
   "source": [
    "#final_df = normalized_df.append(df_cat)"
   ]
  },
  {
   "cell_type": "markdown",
   "metadata": {},
   "source": [
    "# To normalize"
   ]
  },
  {
   "cell_type": "code",
   "execution_count": 151,
   "metadata": {
    "collapsed": true
   },
   "outputs": [],
   "source": [
    "normalized_df=(df_num-df_num.mean())/df_num.std()"
   ]
  },
  {
   "cell_type": "code",
   "execution_count": 152,
   "metadata": {},
   "outputs": [
    {
     "data": {
      "text/html": [
       "<div>\n",
       "<style>\n",
       "    .dataframe thead tr:only-child th {\n",
       "        text-align: right;\n",
       "    }\n",
       "\n",
       "    .dataframe thead th {\n",
       "        text-align: left;\n",
       "    }\n",
       "\n",
       "    .dataframe tbody tr th {\n",
       "        vertical-align: top;\n",
       "    }\n",
       "</style>\n",
       "<table border=\"1\" class=\"dataframe\">\n",
       "  <thead>\n",
       "    <tr style=\"text-align: right;\">\n",
       "      <th></th>\n",
       "      <th>Row_ID</th>\n",
       "      <th>Household_ID</th>\n",
       "      <th>Var1</th>\n",
       "      <th>Var2</th>\n",
       "      <th>Var3</th>\n",
       "      <th>Var4</th>\n",
       "      <th>Var5</th>\n",
       "      <th>Var6</th>\n",
       "      <th>Var7</th>\n",
       "      <th>Var8</th>\n",
       "      <th>NVVar1</th>\n",
       "      <th>NVVar2</th>\n",
       "      <th>NVVar3</th>\n",
       "      <th>NVVar4</th>\n",
       "    </tr>\n",
       "  </thead>\n",
       "  <tbody>\n",
       "    <tr>\n",
       "      <th>0</th>\n",
       "      <td>1.195258</td>\n",
       "      <td>1.141776</td>\n",
       "      <td>3.582030</td>\n",
       "      <td>0.832959</td>\n",
       "      <td>1.103290</td>\n",
       "      <td>1.171901</td>\n",
       "      <td>2.745342</td>\n",
       "      <td>2.538117</td>\n",
       "      <td>1.624347</td>\n",
       "      <td>-0.123385</td>\n",
       "      <td>-0.239522</td>\n",
       "      <td>-0.273228</td>\n",
       "      <td>-0.278539</td>\n",
       "      <td>-0.260585</td>\n",
       "    </tr>\n",
       "    <tr>\n",
       "      <th>1</th>\n",
       "      <td>1.440354</td>\n",
       "      <td>1.289121</td>\n",
       "      <td>-0.776329</td>\n",
       "      <td>-1.490486</td>\n",
       "      <td>-0.987780</td>\n",
       "      <td>-1.539403</td>\n",
       "      <td>-0.895255</td>\n",
       "      <td>-1.467846</td>\n",
       "      <td>-1.222086</td>\n",
       "      <td>-0.935044</td>\n",
       "      <td>-0.239522</td>\n",
       "      <td>-0.273228</td>\n",
       "      <td>-0.278539</td>\n",
       "      <td>-0.260585</td>\n",
       "    </tr>\n",
       "    <tr>\n",
       "      <th>2</th>\n",
       "      <td>-0.221916</td>\n",
       "      <td>-0.098996</td>\n",
       "      <td>2.186698</td>\n",
       "      <td>0.922322</td>\n",
       "      <td>1.466954</td>\n",
       "      <td>1.259362</td>\n",
       "      <td>1.982378</td>\n",
       "      <td>0.779605</td>\n",
       "      <td>1.245637</td>\n",
       "      <td>-0.172305</td>\n",
       "      <td>6.381809</td>\n",
       "      <td>-0.273228</td>\n",
       "      <td>-0.278539</td>\n",
       "      <td>-0.260585</td>\n",
       "    </tr>\n",
       "    <tr>\n",
       "      <th>3</th>\n",
       "      <td>1.133512</td>\n",
       "      <td>1.106828</td>\n",
       "      <td>-1.490410</td>\n",
       "      <td>-1.812194</td>\n",
       "      <td>-1.624192</td>\n",
       "      <td>-1.539403</td>\n",
       "      <td>-1.766355</td>\n",
       "      <td>-1.867128</td>\n",
       "      <td>-1.136570</td>\n",
       "      <td>-1.307623</td>\n",
       "      <td>-0.239522</td>\n",
       "      <td>2.658824</td>\n",
       "      <td>-0.278539</td>\n",
       "      <td>-0.260585</td>\n",
       "    </tr>\n",
       "    <tr>\n",
       "      <th>4</th>\n",
       "      <td>-1.663695</td>\n",
       "      <td>-1.734666</td>\n",
       "      <td>0.028039</td>\n",
       "      <td>0.386143</td>\n",
       "      <td>0.353232</td>\n",
       "      <td>0.297286</td>\n",
       "      <td>0.528542</td>\n",
       "      <td>0.018102</td>\n",
       "      <td>-0.672345</td>\n",
       "      <td>0.367127</td>\n",
       "      <td>-0.239522</td>\n",
       "      <td>-0.273228</td>\n",
       "      <td>-0.278539</td>\n",
       "      <td>-0.260585</td>\n",
       "    </tr>\n",
       "  </tbody>\n",
       "</table>\n",
       "</div>"
      ],
      "text/plain": [
       "     Row_ID  Household_ID      Var1      Var2      Var3      Var4      Var5  \\\n",
       "0  1.195258      1.141776  3.582030  0.832959  1.103290  1.171901  2.745342   \n",
       "1  1.440354      1.289121 -0.776329 -1.490486 -0.987780 -1.539403 -0.895255   \n",
       "2 -0.221916     -0.098996  2.186698  0.922322  1.466954  1.259362  1.982378   \n",
       "3  1.133512      1.106828 -1.490410 -1.812194 -1.624192 -1.539403 -1.766355   \n",
       "4 -1.663695     -1.734666  0.028039  0.386143  0.353232  0.297286  0.528542   \n",
       "\n",
       "       Var6      Var7      Var8    NVVar1    NVVar2    NVVar3    NVVar4  \n",
       "0  2.538117  1.624347 -0.123385 -0.239522 -0.273228 -0.278539 -0.260585  \n",
       "1 -1.467846 -1.222086 -0.935044 -0.239522 -0.273228 -0.278539 -0.260585  \n",
       "2  0.779605  1.245637 -0.172305  6.381809 -0.273228 -0.278539 -0.260585  \n",
       "3 -1.867128 -1.136570 -1.307623 -0.239522  2.658824 -0.278539 -0.260585  \n",
       "4  0.018102 -0.672345  0.367127 -0.239522 -0.273228 -0.278539 -0.260585  "
      ]
     },
     "execution_count": 152,
     "metadata": {},
     "output_type": "execute_result"
    }
   ],
   "source": [
    "normalized_df.head()"
   ]
  },
  {
   "cell_type": "code",
   "execution_count": 153,
   "metadata": {
    "collapsed": true
   },
   "outputs": [],
   "source": [
    "#normalized_df['price'] = targetVar['price']\n",
    "#pandas_df.Claim_Amount\n",
    "normalized_df['Claim_Amount'] = pandas_df['Claim_Amount']"
   ]
  },
  {
   "cell_type": "code",
   "execution_count": 154,
   "metadata": {
    "scrolled": true
   },
   "outputs": [
    {
     "data": {
      "text/html": [
       "<div>\n",
       "<style>\n",
       "    .dataframe thead tr:only-child th {\n",
       "        text-align: right;\n",
       "    }\n",
       "\n",
       "    .dataframe thead th {\n",
       "        text-align: left;\n",
       "    }\n",
       "\n",
       "    .dataframe tbody tr th {\n",
       "        vertical-align: top;\n",
       "    }\n",
       "</style>\n",
       "<table border=\"1\" class=\"dataframe\">\n",
       "  <thead>\n",
       "    <tr style=\"text-align: right;\">\n",
       "      <th></th>\n",
       "      <th>Row_ID</th>\n",
       "      <th>Household_ID</th>\n",
       "      <th>Var1</th>\n",
       "      <th>Var2</th>\n",
       "      <th>Var3</th>\n",
       "      <th>Var4</th>\n",
       "      <th>Var5</th>\n",
       "      <th>Var6</th>\n",
       "      <th>Var7</th>\n",
       "      <th>Var8</th>\n",
       "      <th>NVVar1</th>\n",
       "      <th>NVVar2</th>\n",
       "      <th>NVVar3</th>\n",
       "      <th>NVVar4</th>\n",
       "      <th>Claim_Amount</th>\n",
       "    </tr>\n",
       "  </thead>\n",
       "  <tbody>\n",
       "    <tr>\n",
       "      <th>0</th>\n",
       "      <td>1.195258</td>\n",
       "      <td>1.141776</td>\n",
       "      <td>3.582030</td>\n",
       "      <td>0.832959</td>\n",
       "      <td>1.103290</td>\n",
       "      <td>1.171901</td>\n",
       "      <td>2.745342</td>\n",
       "      <td>2.538117</td>\n",
       "      <td>1.624347</td>\n",
       "      <td>-0.123385</td>\n",
       "      <td>-0.239522</td>\n",
       "      <td>-0.273228</td>\n",
       "      <td>-0.278539</td>\n",
       "      <td>-0.260585</td>\n",
       "      <td>0.0</td>\n",
       "    </tr>\n",
       "    <tr>\n",
       "      <th>1</th>\n",
       "      <td>1.440354</td>\n",
       "      <td>1.289121</td>\n",
       "      <td>-0.776329</td>\n",
       "      <td>-1.490486</td>\n",
       "      <td>-0.987780</td>\n",
       "      <td>-1.539403</td>\n",
       "      <td>-0.895255</td>\n",
       "      <td>-1.467846</td>\n",
       "      <td>-1.222086</td>\n",
       "      <td>-0.935044</td>\n",
       "      <td>-0.239522</td>\n",
       "      <td>-0.273228</td>\n",
       "      <td>-0.278539</td>\n",
       "      <td>-0.260585</td>\n",
       "      <td>0.0</td>\n",
       "    </tr>\n",
       "    <tr>\n",
       "      <th>2</th>\n",
       "      <td>-0.221916</td>\n",
       "      <td>-0.098996</td>\n",
       "      <td>2.186698</td>\n",
       "      <td>0.922322</td>\n",
       "      <td>1.466954</td>\n",
       "      <td>1.259362</td>\n",
       "      <td>1.982378</td>\n",
       "      <td>0.779605</td>\n",
       "      <td>1.245637</td>\n",
       "      <td>-0.172305</td>\n",
       "      <td>6.381809</td>\n",
       "      <td>-0.273228</td>\n",
       "      <td>-0.278539</td>\n",
       "      <td>-0.260585</td>\n",
       "      <td>0.0</td>\n",
       "    </tr>\n",
       "    <tr>\n",
       "      <th>3</th>\n",
       "      <td>1.133512</td>\n",
       "      <td>1.106828</td>\n",
       "      <td>-1.490410</td>\n",
       "      <td>-1.812194</td>\n",
       "      <td>-1.624192</td>\n",
       "      <td>-1.539403</td>\n",
       "      <td>-1.766355</td>\n",
       "      <td>-1.867128</td>\n",
       "      <td>-1.136570</td>\n",
       "      <td>-1.307623</td>\n",
       "      <td>-0.239522</td>\n",
       "      <td>2.658824</td>\n",
       "      <td>-0.278539</td>\n",
       "      <td>-0.260585</td>\n",
       "      <td>0.0</td>\n",
       "    </tr>\n",
       "    <tr>\n",
       "      <th>4</th>\n",
       "      <td>-1.663695</td>\n",
       "      <td>-1.734666</td>\n",
       "      <td>0.028039</td>\n",
       "      <td>0.386143</td>\n",
       "      <td>0.353232</td>\n",
       "      <td>0.297286</td>\n",
       "      <td>0.528542</td>\n",
       "      <td>0.018102</td>\n",
       "      <td>-0.672345</td>\n",
       "      <td>0.367127</td>\n",
       "      <td>-0.239522</td>\n",
       "      <td>-0.273228</td>\n",
       "      <td>-0.278539</td>\n",
       "      <td>-0.260585</td>\n",
       "      <td>0.0</td>\n",
       "    </tr>\n",
       "  </tbody>\n",
       "</table>\n",
       "</div>"
      ],
      "text/plain": [
       "     Row_ID  Household_ID      Var1      Var2      Var3      Var4      Var5  \\\n",
       "0  1.195258      1.141776  3.582030  0.832959  1.103290  1.171901  2.745342   \n",
       "1  1.440354      1.289121 -0.776329 -1.490486 -0.987780 -1.539403 -0.895255   \n",
       "2 -0.221916     -0.098996  2.186698  0.922322  1.466954  1.259362  1.982378   \n",
       "3  1.133512      1.106828 -1.490410 -1.812194 -1.624192 -1.539403 -1.766355   \n",
       "4 -1.663695     -1.734666  0.028039  0.386143  0.353232  0.297286  0.528542   \n",
       "\n",
       "       Var6      Var7      Var8    NVVar1    NVVar2    NVVar3    NVVar4  \\\n",
       "0  2.538117  1.624347 -0.123385 -0.239522 -0.273228 -0.278539 -0.260585   \n",
       "1 -1.467846 -1.222086 -0.935044 -0.239522 -0.273228 -0.278539 -0.260585   \n",
       "2  0.779605  1.245637 -0.172305  6.381809 -0.273228 -0.278539 -0.260585   \n",
       "3 -1.867128 -1.136570 -1.307623 -0.239522  2.658824 -0.278539 -0.260585   \n",
       "4  0.018102 -0.672345  0.367127 -0.239522 -0.273228 -0.278539 -0.260585   \n",
       "\n",
       "   Claim_Amount  \n",
       "0           0.0  \n",
       "1           0.0  \n",
       "2           0.0  \n",
       "3           0.0  \n",
       "4           0.0  "
      ]
     },
     "execution_count": 154,
     "metadata": {},
     "output_type": "execute_result"
    }
   ],
   "source": [
    "normalized_df.head()"
   ]
  },
  {
   "cell_type": "markdown",
   "metadata": {},
   "source": [
    "# To get categorical data"
   ]
  },
  {
   "cell_type": "code",
   "execution_count": 155,
   "metadata": {
    "collapsed": true
   },
   "outputs": [],
   "source": [
    "df_cat = pandas_df[cat_cols]"
   ]
  },
  {
   "cell_type": "code",
   "execution_count": 156,
   "metadata": {},
   "outputs": [
    {
     "data": {
      "text/plain": [
       "Index([u'Cat9', u'Blind_Submodel', u'Blind_Model', u'Cat7', u'Calendar_Year',\n",
       "       u'Cat12', u'Cat10', u'Cat1', u'Cat2', u'Cat3', u'Cat11', u'Cat5',\n",
       "       u'Cat6', u'Vehicle', u'Cat8', u'Cat4', u'OrdCat', u'NVCat',\n",
       "       u'Blind_Make', u'Model_Year'],\n",
       "      dtype='object')"
      ]
     },
     "execution_count": 156,
     "metadata": {},
     "output_type": "execute_result"
    }
   ],
   "source": [
    "df_cat.columns"
   ]
  },
  {
   "cell_type": "code",
   "execution_count": 157,
   "metadata": {
    "collapsed": true
   },
   "outputs": [],
   "source": [
    "df_cat.to_csv(\"categorical.csv\")\n",
    "df_num.to_csv(\"numeric.csv\")"
   ]
  },
  {
   "cell_type": "code",
   "execution_count": null,
   "metadata": {
    "collapsed": true
   },
   "outputs": [],
   "source": []
  }
 ],
 "metadata": {
  "kernelspec": {
   "display_name": "Python 2",
   "language": "python",
   "name": "python2"
  },
  "language_info": {
   "codemirror_mode": {
    "name": "ipython",
    "version": 2
   },
   "file_extension": ".py",
   "mimetype": "text/x-python",
   "name": "python",
   "nbconvert_exporter": "python",
   "pygments_lexer": "ipython2",
   "version": "2.7.13"
  }
 },
 "nbformat": 4,
 "nbformat_minor": 2
}
